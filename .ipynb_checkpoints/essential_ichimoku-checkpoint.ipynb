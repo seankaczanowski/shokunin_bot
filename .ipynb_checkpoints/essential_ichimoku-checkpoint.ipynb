{
 "cells": [
  {
   "cell_type": "code",
   "execution_count": null,
   "id": "5228a24f-8c8f-41fc-8769-63a29c76dc8b",
   "metadata": {
    "jupyter": {
     "source_hidden": true
    }
   },
   "outputs": [],
   "source": [
    "# Dependencies / Libraries Modules Environment Variables\n",
    "\n",
    "# Libraries\n",
    "import os\n",
    "import sys\n",
    "import time\n",
    "import json\n",
    "import logging\n",
    "import pandas as pd\n",
    "import numpy as np\n",
    "import matplotlib.pyplot as plt\n",
    "from datetime import datetime\n",
    "\n",
    "# Modules\n",
    "# Oanda Connection\n",
    "\n",
    "\n",
    "# Jupyter inline plotting\n",
    "%matplotlib inline\n",
    "\n",
    "# External tools\n",
    "import seaborn as sns\n",
    "from tqdm import tqdm\n",
    "from dotenv import load_dotenv\n",
    "from ta.trend import IchimokuIndicator\n",
    "from sklearn.preprocessing import StandardScaler\n",
    "from sklearn.decomposition import PCA\n",
    "from IPython.display import display, HTML\n",
    "\n",
    "# Load environment variables\n",
    "load_dotenv();"
   ]
  },
  {
   "cell_type": "code",
   "execution_count": null,
   "id": "57d18b80-3dde-48cf-827e-a501c4ab4f8a",
   "metadata": {},
   "outputs": [],
   "source": [
    "# Initialize Oanda API Client\n",
    "\n",
    "# Import Oanda Python API\n",
    "import oandapyV20\n",
    "\n",
    "# Load environment variables\n",
    "load_dotenv()\n",
    "ACCOUNT_ID = os.getenv(\"OANDA_ACCOUNT_ID\")\n",
    "ACCESS_TOKEN = os.getenv(\"OANDA_ACCESS_TOKEN\")\n",
    "\n",
    "# Configuration\n",
    "INSTRUMENTS = [\"USD_JPY\", \"EUR_USD\", \"USD_CAD\"]\n",
    "GRANULARITY = \"M5\"\n",
    "CANDLE_COUNT = 100  # Ensure enough for Ichimoku projections\n",
    "\n",
    "# Initialize API client\n",
    "client = oandapyV20.API(access_token=ACCESS_TOKEN, environment=\"live\")\n",
    "client.accountID = ACCOUNT_ID"
   ]
  },
  {
   "cell_type": "code",
   "execution_count": null,
   "id": "21267253-e46e-45a7-b966-5c1a605297c7",
   "metadata": {
    "jupyter": {
     "source_hidden": true
    }
   },
   "outputs": [],
   "source": [
    "# Data Loading / Create Pandas DataFrame From OHLC CSV\n",
    "# Function for loading a OHLC data set from a csv as a pandas dataframe\n",
    "def load_data_from_csv(csv_path):\n",
    "    df = pd.read_csv(csv_path)\n",
    "    df = df.rename(columns={\n",
    "        \"Open\": \"open\", \"High\": \"high\", \"Low\": \"low\", \"Close\": \"close\"\n",
    "    })\n",
    "    df = df[['open', 'high', 'low', 'close']].astype(float)\n",
    "    return df"
   ]
  },
  {
   "cell_type": "code",
   "execution_count": null,
   "id": "e0e634ad-bd55-4444-a4fa-e71b36a04a2c",
   "metadata": {
    "jupyter": {
     "source_hidden": true
    }
   },
   "outputs": [],
   "source": [
    "# Data Prep / Create Ichimoku Component From OHLC DataFrame \n",
    "# Default to standard 9 26 52\n",
    "# Creates pandas series for: tenkan-sen, kijun-sen, senkou span A, senkou span B, chikou\n",
    "\n",
    "from ta.trend import IchimokuIndicator\n",
    "\n",
    "# Initialize IchimokuIndicator\n",
    "ichimoku = IchimokuIndicator(\n",
    "    high=df['high'],\n",
    "    low=df['low'],\n",
    "    window1=9,\n",
    "    window2=26,\n",
    "    window3=52,\n",
    "    visual=True,  \n",
    "    fillna=False\n",
    ")"
   ]
  },
  {
   "cell_type": "code",
   "execution_count": null,
   "id": "0365e148-01dd-448b-9e96-c15eb317a2fb",
   "metadata": {
    "jupyter": {
     "source_hidden": true
    }
   },
   "outputs": [],
   "source": [
    "# Data Prep / Add Ichimoku layers To DataFrame\n",
    "df['tenkan_sen'] = ichimoku.ichimoku_conversion_line()\n",
    "df['kijun_sen'] = ichimoku.ichimoku_base_line()\n",
    "df['senkou_span_a'] = ichimoku.ichimoku_a()\n",
    "df['senkou_span_b'] = ichimoku.ichimoku_b()\n",
    "df['chikou_span'] = df['close'].shift(-26)"
   ]
  },
  {
   "cell_type": "code",
   "execution_count": null,
   "id": "81c7fde7-5545-489c-8dd2-1dbc9195bd1d",
   "metadata": {
    "jupyter": {
     "source_hidden": true
    }
   },
   "outputs": [],
   "source": [
    "# Data Prep / Create Heiken Ashi Candles\n",
    "# Compute Heiken Ashi candles and merge with main dataframe\n",
    "\n",
    "# Function for creating Heiken Ashi Candles\n",
    "def compute_heiken_ashi(df):\n",
    "    ha_df = pd.DataFrame(index=df.index)\n",
    "\n",
    "    # Heiken Ashi Close is the average of open, high, low, close\n",
    "    ha_df['ha_close'] = (df['open'] + df['high'] + df['low'] + df['close']) / 4\n",
    "\n",
    "    # Heiken Ashi Open starts from the first candle\n",
    "    ha_open = [(df['open'].iloc[0] + df['close'].iloc[0]) / 2]\n",
    "\n",
    "    # Loop to compute remaining HA Open\n",
    "    for i in range(1, len(df)):\n",
    "        ha_open.append((ha_open[i-1] + ha_df['ha_close'].iloc[i-1]) / 2)\n",
    "\n",
    "    ha_df['ha_open'] = ha_open\n",
    "\n",
    "    # Heiken Ashi High = max(high, ha_open, ha_close)\n",
    "    ha_df['ha_high'] = df[['high']].join(ha_df[['ha_open', 'ha_close']]).max(axis=1)\n",
    "\n",
    "    # Heiken Ashi Low = min(low, ha_open, ha_close)\n",
    "    ha_df['ha_low'] = df[['low']].join(ha_df[['ha_open', 'ha_close']]).min(axis=1)\n",
    "\n",
    "    return ha_df\n",
    "\n",
    "\n",
    "# Calculate Heiken Ashi candles\n",
    "ha_df = compute_heiken_ashi(df)"
   ]
  },
  {
   "cell_type": "code",
   "execution_count": null,
   "id": "575f1b74-1aad-40b7-8016-f3e8730bc498",
   "metadata": {
    "jupyter": {
     "source_hidden": true
    }
   },
   "outputs": [],
   "source": [
    "# Data Prep / Add Heiken Ashi Candles To DataFrame\n",
    "# Merge Heiken Ashi columns into the main dataframe\n",
    "df = pd.concat([df, ha_df], axis=1)"
   ]
  },
  {
   "cell_type": "code",
   "execution_count": null,
   "id": "336d6561-2bc9-4137-ac22-56290e88717a",
   "metadata": {
    "jupyter": {
     "source_hidden": true
    }
   },
   "outputs": [],
   "source": [
    "# Data Prep / Basic Inspection And Cleaning\n",
    "\n",
    "# Data Inspection\n",
    "print(\"Final dataset shape:\", df.shape)\n",
    "print(\"Any NaN values?\", df.isnull().values.any())\n",
    "\n",
    "# Data cleaning\n",
    "# Drop NaN and reset index\n",
    "df.dropna(inplace=True)\n",
    "df.reset_index(drop=True, inplace=True)"
   ]
  },
  {
   "cell_type": "code",
   "execution_count": null,
   "id": "19aa2c0e-7d68-4327-a9ab-ebdef9a4e25a",
   "metadata": {
    "jupyter": {
     "source_hidden": true
    }
   },
   "outputs": [],
   "source": [
    "# Data Prep / Slice DataFrame\n",
    "# Simple slice using .iloc\n",
    "start = 1000\n",
    "end = start + 300\n",
    "sample = df.iloc[start:end]"
   ]
  },
  {
   "cell_type": "code",
   "execution_count": null,
   "id": "44b47aa0-5e2e-404b-b436-1b37d33ba834",
   "metadata": {
    "jupyter": {
     "source_hidden": true
    }
   },
   "outputs": [],
   "source": [
    "# Data Prep / Create And Save Enriched OHLC CSV Dataset\n",
    "# Save pandas dataframe as a csv and export it\n",
    "if not df.isnull().values.any():\n",
    "    df.to_csv(\"dataset.csv\", index=False)\n",
    "    print(\"✅ Dataset contains no NaN values - saved\")\n",
    "else:\n",
    "    print(\"⚠️ Dataset contains NaN values - not saved.\")"
   ]
  },
  {
   "cell_type": "code",
   "execution_count": 4,
   "id": "5b4e51a2-116a-407a-90b4-e33fcd8acd70",
   "metadata": {
    "jupyter": {
     "source_hidden": true
    }
   },
   "outputs": [],
   "source": [
    "# Data Visualization / Create Ichimoku Chart (Without Heiken Ashi)\n",
    "\n",
    "\n",
    "# Create the plot\n",
    "plt.figure(figsize=(14, 7))\n",
    "plt.plot(sample.index, sample['close'], label='Close', linewidth=1.5)\n",
    "plt.plot(sample.index, sample['tenkan_sen'], label='Tenkan-sen', linestyle='--')\n",
    "plt.plot(sample.index, sample['kijun_sen'], label='Kijun-sen', linestyle='--')\n",
    "plt.plot(sample.index, sample['senkou_span_a'], label='Senkou Span A', alpha=0.7)\n",
    "plt.plot(sample.index, sample['senkou_span_b'], label='Senkou Span B', alpha=0.7)\n",
    "\n",
    "# Fill between cloud layers\n",
    "plt.fill_between(sample.index, sample['senkou_span_a'], sample['senkou_span_b'],\n",
    "                 where=(sample['senkou_span_a'] >= sample['senkou_span_b']),\n",
    "                 color='lightgreen', alpha=0.3)\n",
    "plt.fill_between(sample.index, sample['senkou_span_a'], sample['senkou_span_b'],\n",
    "                 where=(sample['senkou_span_a'] < sample['senkou_span_b']),\n",
    "                 color='lightcoral', alpha=0.3)\n",
    "\n",
    "# Final styling\n",
    "plt.title(f\"Ichimoku Chart View ({start}–{end})\")\n",
    "plt.legend()\n",
    "plt.grid(True)"
   ]
  },
  {
   "cell_type": "code",
   "execution_count": null,
   "id": "ea72c114-9fec-492b-bf95-83fe73253bba",
   "metadata": {
    "jupyter": {
     "source_hidden": true
    }
   },
   "outputs": [],
   "source": [
    "# Data Visualization / Create Ichimoku Chart With Heiken Ashi Candles\n",
    "\n",
    "# Create the plot\n",
    "plt.figure(figsize=(14, 8))\n",
    "\n",
    "# Plot Heiken Ashi Candles as filled bars\n",
    "for i in range(len(sample)):\n",
    "    color = 'green' if sample['ha_close'].iloc[i] >= sample['ha_open'].iloc[i] else 'red'\n",
    "    plt.plot([sample.index[i], sample.index[i]], \n",
    "             [sample['ha_low'].iloc[i], sample['ha_high'].iloc[i]], \n",
    "             color=color, linewidth=0.8)\n",
    "    plt.plot([sample.index[i], sample.index[i]], \n",
    "             [sample['ha_open'].iloc[i], sample['ha_close'].iloc[i]], \n",
    "             color=color, linewidth=4)\n",
    "\n",
    "# Plot Ichimoku lines\n",
    "plt.plot(sample.index, sample['close'], label='Close', color='black', linewidth=1, alpha=0.4)\n",
    "plt.plot(sample.index, sample['tenkan_sen'], label='Tenkan-sen', linestyle='--')\n",
    "plt.plot(sample.index, sample['kijun_sen'], label='Kijun-sen', linestyle='--')\n",
    "plt.plot(sample.index, sample['senkou_span_a'], label='Senkou Span A', alpha=0.7)\n",
    "plt.plot(sample.index, sample['senkou_span_b'], label='Senkou Span B', alpha=0.7)\n",
    "\n",
    "# Fill the Kumo (cloud)\n",
    "plt.fill_between(sample.index, sample['senkou_span_a'], sample['senkou_span_b'],\n",
    "                 where=(sample['senkou_span_a'] >= sample['senkou_span_b']),\n",
    "                 color='lightgreen', alpha=0.3)\n",
    "plt.fill_between(sample.index, sample['senkou_span_a'], sample['senkou_span_b'],\n",
    "                 where=(sample['senkou_span_a'] < sample['senkou_span_b']),\n",
    "                 color='lightcoral', alpha=0.3)\n",
    "\n",
    "# Final styling\n",
    "plt.title(f\"Ichimoku + Heiken Ashi View ({start}–{end})\")\n",
    "plt.legend()\n",
    "plt.grid(True)\n",
    "plt.tight_layout()\n",
    "plt.show()\n",
    "\n"
   ]
  }
 ],
 "metadata": {
  "kernelspec": {
   "display_name": "Python 3 (ipykernel)",
   "language": "python",
   "name": "python3"
  },
  "language_info": {
   "codemirror_mode": {
    "name": "ipython",
    "version": 3
   },
   "file_extension": ".py",
   "mimetype": "text/x-python",
   "name": "python",
   "nbconvert_exporter": "python",
   "pygments_lexer": "ipython3",
   "version": "3.12.3"
  }
 },
 "nbformat": 4,
 "nbformat_minor": 5
}
