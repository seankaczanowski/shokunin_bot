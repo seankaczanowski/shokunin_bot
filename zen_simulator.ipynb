{
 "cells": [
  {
   "cell_type": "markdown",
   "id": "1ec748d0-739e-4495-8891-a888f626a530",
   "metadata": {},
   "source": [
    "# Zen Trader Simulator: Heiken-Ashi and Ichimoku-Driven Trade Insight"
   ]
  },
  {
   "cell_type": "markdown",
   "id": "d7b5077f-b308-4e3e-87bf-15080ae0702f",
   "metadata": {
    "jupyter": {
     "source_hidden": true
    }
   },
   "source": [
    "## 🌅 Introduction\n",
    "\n",
    "This notebook is part of the Zen Trader project — an intuition-first, Ichimoku-inspired approach to understanding market flow.  \n",
    "We simulate and reflect on trades using mood-based intent, Heiken Ashi reinforcement, and Ichimoku signals to guide our path with clarity and restraint.\n",
    "\n",
    "We do not seek to beat the market, but to listen to it."
   ]
  },
  {
   "cell_type": "markdown",
   "id": "956395b9-411b-4b5c-86aa-569dbdcbab17",
   "metadata": {
    "jupyter": {
     "source_hidden": true
    }
   },
   "source": [
    "## 📦 Core Libraries and Environment\n",
    "\n",
    "We begin by loading essential tools and activating our environment."
   ]
  },
  {
   "cell_type": "code",
   "execution_count": 2,
   "id": "e0b58c45-3685-4375-8c4f-cd1a9e6b5412",
   "metadata": {
    "jupyter": {
     "source_hidden": true
    }
   },
   "outputs": [
    {
     "name": "stdout",
     "output_type": "stream",
     "text": [
      "Completed\n"
     ]
    }
   ],
   "source": [
    "# Core libraries\n",
    "import os\n",
    "import pandas as pd\n",
    "import numpy as np\n",
    "import matplotlib.pyplot as plt\n",
    "from datetime import datetime\n",
    "\n",
    "# Jupyter inline plotting\n",
    "%matplotlib inline\n",
    "\n",
    "# External tools (installed via requirements.txt)\n",
    "import seaborn as sns\n",
    "from tqdm import tqdm\n",
    "from dotenv import load_dotenv\n",
    "from ta.trend import IchimokuIndicator\n",
    "\n",
    "# Load environment variables if needed\n",
    "load_dotenv();\n",
    "\n",
    "print('Completed')"
   ]
  },
  {
   "cell_type": "markdown",
   "id": "cb9f6a9d-c057-43e2-a276-626d931ccd29",
   "metadata": {
    "jupyter": {
     "source_hidden": true
    }
   },
   "source": [
    "## 📂 Dataset Loading\n",
    "\n",
    "We load historical market data (EURUSD, 15-minute candles) for analysis and simulation."
   ]
  },
  {
   "cell_type": "code",
   "execution_count": 3,
   "id": "a811433a-7d86-48c0-a7da-c1b69a9e28ba",
   "metadata": {
    "collapsed": true,
    "jupyter": {
     "outputs_hidden": true,
     "source_hidden": true
    }
   },
   "outputs": [
    {
     "data": {
      "text/html": [
       "<div>\n",
       "<style scoped>\n",
       "    .dataframe tbody tr th:only-of-type {\n",
       "        vertical-align: middle;\n",
       "    }\n",
       "\n",
       "    .dataframe tbody tr th {\n",
       "        vertical-align: top;\n",
       "    }\n",
       "\n",
       "    .dataframe thead th {\n",
       "        text-align: right;\n",
       "    }\n",
       "</style>\n",
       "<table border=\"1\" class=\"dataframe\">\n",
       "  <thead>\n",
       "    <tr style=\"text-align: right;\">\n",
       "      <th></th>\n",
       "      <th>open</th>\n",
       "      <th>high</th>\n",
       "      <th>low</th>\n",
       "      <th>close</th>\n",
       "    </tr>\n",
       "  </thead>\n",
       "  <tbody>\n",
       "    <tr>\n",
       "      <th>0</th>\n",
       "      <td>1.12773</td>\n",
       "      <td>1.12826</td>\n",
       "      <td>1.12746</td>\n",
       "      <td>1.12809</td>\n",
       "    </tr>\n",
       "    <tr>\n",
       "      <th>1</th>\n",
       "      <td>1.12815</td>\n",
       "      <td>1.12851</td>\n",
       "      <td>1.12774</td>\n",
       "      <td>1.12788</td>\n",
       "    </tr>\n",
       "    <tr>\n",
       "      <th>2</th>\n",
       "      <td>1.12785</td>\n",
       "      <td>1.12822</td>\n",
       "      <td>1.12747</td>\n",
       "      <td>1.12808</td>\n",
       "    </tr>\n",
       "    <tr>\n",
       "      <th>3</th>\n",
       "      <td>1.12808</td>\n",
       "      <td>1.12834</td>\n",
       "      <td>1.12769</td>\n",
       "      <td>1.12769</td>\n",
       "    </tr>\n",
       "    <tr>\n",
       "      <th>4</th>\n",
       "      <td>1.12781</td>\n",
       "      <td>1.12827</td>\n",
       "      <td>1.12743</td>\n",
       "      <td>1.12776</td>\n",
       "    </tr>\n",
       "  </tbody>\n",
       "</table>\n",
       "</div>"
      ],
      "text/plain": [
       "      open     high      low    close\n",
       "0  1.12773  1.12826  1.12746  1.12809\n",
       "1  1.12815  1.12851  1.12774  1.12788\n",
       "2  1.12785  1.12822  1.12747  1.12808\n",
       "3  1.12808  1.12834  1.12769  1.12769\n",
       "4  1.12781  1.12827  1.12743  1.12776"
      ]
     },
     "execution_count": 3,
     "metadata": {},
     "output_type": "execute_result"
    }
   ],
   "source": [
    "def load_data_from_csv(csv_path):\n",
    "    df = pd.read_csv(csv_path)\n",
    "    df = df.rename(columns={\n",
    "        \"Open\": \"open\", \"High\": \"high\", \"Low\": \"low\", \"Close\": \"close\"\n",
    "    })\n",
    "    df = df[['open', 'high', 'low', 'close']].astype(float)\n",
    "    return df\n",
    "\n",
    "# Load and preview your dataset\n",
    "df = load_data_from_csv(\"datasets/EURUSD_M15.csv\")\n",
    "df.head()\n"
   ]
  },
  {
   "cell_type": "markdown",
   "id": "36cd9992-33b7-4774-8d06-aa52c1dc3360",
   "metadata": {
    "jupyter": {
     "source_hidden": true
    }
   },
   "source": [
    "## 🧼 Data Cleaning & Preparation\n",
    "\n",
    "Before analysis and simulation, we prepare the raw dataset for reliability and consistency:"
   ]
  },
  {
   "cell_type": "code",
   "execution_count": 5,
   "id": "70eb8ac9-5fba-4926-9d13-bfa441dd32d5",
   "metadata": {
    "jupyter": {
     "source_hidden": true
    }
   },
   "outputs": [],
   "source": [
    "# Drop unused columns (optional, if applicable)\n",
    "# df.drop(columns=['Unnamed: 0'], inplace=True)\n",
    "\n",
    "# Drop rows with missing values (if any)\n",
    "df.dropna(inplace=True)\n",
    "\n",
    "# Reset index after cleaning (optional)\n",
    "df.reset_index(drop=True, inplace=True)"
   ]
  },
  {
   "cell_type": "markdown",
   "id": "76186bb3-1c22-4e62-befc-382a35a2bc0a",
   "metadata": {
    "jupyter": {
     "source_hidden": true
    }
   },
   "source": [
    "## 🌥️ Generate Ichimoku Components"
   ]
  },
  {
   "cell_type": "code",
   "execution_count": 11,
   "id": "6e00f243-772b-47e5-94e4-3cc5baf7dc15",
   "metadata": {
    "collapsed": true,
    "jupyter": {
     "outputs_hidden": true,
     "source_hidden": true
    }
   },
   "outputs": [
    {
     "data": {
      "text/html": [
       "<div>\n",
       "<style scoped>\n",
       "    .dataframe tbody tr th:only-of-type {\n",
       "        vertical-align: middle;\n",
       "    }\n",
       "\n",
       "    .dataframe tbody tr th {\n",
       "        vertical-align: top;\n",
       "    }\n",
       "\n",
       "    .dataframe thead th {\n",
       "        text-align: right;\n",
       "    }\n",
       "</style>\n",
       "<table border=\"1\" class=\"dataframe\">\n",
       "  <thead>\n",
       "    <tr style=\"text-align: right;\">\n",
       "      <th></th>\n",
       "      <th>open</th>\n",
       "      <th>high</th>\n",
       "      <th>low</th>\n",
       "      <th>close</th>\n",
       "      <th>tenkan_sen</th>\n",
       "      <th>kijun_sen</th>\n",
       "      <th>senkou_span_a</th>\n",
       "      <th>senkou_span_b</th>\n",
       "      <th>chikou_span</th>\n",
       "    </tr>\n",
       "  </thead>\n",
       "  <tbody>\n",
       "    <tr>\n",
       "      <th>0</th>\n",
       "      <td>1.13340</td>\n",
       "      <td>1.13371</td>\n",
       "      <td>1.13311</td>\n",
       "      <td>1.13334</td>\n",
       "      <td>1.132275</td>\n",
       "      <td>1.130100</td>\n",
       "      <td>1.235319</td>\n",
       "      <td>1.235317</td>\n",
       "      <td>1.13485</td>\n",
       "    </tr>\n",
       "    <tr>\n",
       "      <th>1</th>\n",
       "      <td>1.13477</td>\n",
       "      <td>1.13520</td>\n",
       "      <td>1.13471</td>\n",
       "      <td>1.13485</td>\n",
       "      <td>1.135380</td>\n",
       "      <td>1.135355</td>\n",
       "      <td>1.131188</td>\n",
       "      <td>1.130100</td>\n",
       "      <td>1.13540</td>\n",
       "    </tr>\n",
       "    <tr>\n",
       "      <th>2</th>\n",
       "      <td>1.13479</td>\n",
       "      <td>1.13563</td>\n",
       "      <td>1.13476</td>\n",
       "      <td>1.13521</td>\n",
       "      <td>1.135380</td>\n",
       "      <td>1.135595</td>\n",
       "      <td>1.132983</td>\n",
       "      <td>1.130950</td>\n",
       "      <td>1.13513</td>\n",
       "    </tr>\n",
       "    <tr>\n",
       "      <th>3</th>\n",
       "      <td>1.13507</td>\n",
       "      <td>1.13523</td>\n",
       "      <td>1.13472</td>\n",
       "      <td>1.13478</td>\n",
       "      <td>1.135380</td>\n",
       "      <td>1.135595</td>\n",
       "      <td>1.133235</td>\n",
       "      <td>1.131095</td>\n",
       "      <td>1.13554</td>\n",
       "    </tr>\n",
       "    <tr>\n",
       "      <th>4</th>\n",
       "      <td>1.13470</td>\n",
       "      <td>1.13495</td>\n",
       "      <td>1.13445</td>\n",
       "      <td>1.13450</td>\n",
       "      <td>1.135380</td>\n",
       "      <td>1.135200</td>\n",
       "      <td>1.133945</td>\n",
       "      <td>1.131630</td>\n",
       "      <td>1.13575</td>\n",
       "    </tr>\n",
       "  </tbody>\n",
       "</table>\n",
       "</div>"
      ],
      "text/plain": [
       "      open     high      low    close  tenkan_sen  kijun_sen  senkou_span_a  \\\n",
       "0  1.13340  1.13371  1.13311  1.13334    1.132275   1.130100       1.235319   \n",
       "1  1.13477  1.13520  1.13471  1.13485    1.135380   1.135355       1.131188   \n",
       "2  1.13479  1.13563  1.13476  1.13521    1.135380   1.135595       1.132983   \n",
       "3  1.13507  1.13523  1.13472  1.13478    1.135380   1.135595       1.133235   \n",
       "4  1.13470  1.13495  1.13445  1.13450    1.135380   1.135200       1.133945   \n",
       "\n",
       "   senkou_span_b  chikou_span  \n",
       "0       1.235317      1.13485  \n",
       "1       1.130100      1.13540  \n",
       "2       1.130950      1.13513  \n",
       "3       1.131095      1.13554  \n",
       "4       1.131630      1.13575  "
      ]
     },
     "execution_count": 11,
     "metadata": {},
     "output_type": "execute_result"
    }
   ],
   "source": [
    "from ta.trend import IchimokuIndicator\n",
    "\n",
    "# Initialize IchimokuIndicator\n",
    "ichimoku = IchimokuIndicator(\n",
    "    high=df['high'],\n",
    "    low=df['low'],\n",
    "    window1=9,\n",
    "    window2=26,\n",
    "    window3=52,\n",
    "    visual=True,\n",
    "    fillna=False\n",
    ")\n",
    "\n",
    "# Add Ichimoku layers\n",
    "df['tenkan_sen'] = ichimoku.ichimoku_conversion_line()\n",
    "df['kijun_sen'] = ichimoku.ichimoku_base_line()\n",
    "df['senkou_span_a'] = ichimoku.ichimoku_a()\n",
    "df['senkou_span_b'] = ichimoku.ichimoku_b()\n",
    "df['chikou_span'] = df['close'].shift(-26)\n",
    "df.dropna(inplace=True)\n",
    "df.reset_index(drop=True, inplace=True)\n",
    "df.head()"
   ]
  },
  {
   "cell_type": "markdown",
   "id": "fdf4d4d8-0b78-4849-b031-aa156a4ae2ff",
   "metadata": {
    "jupyter": {
     "source_hidden": true
    }
   },
   "source": [
    "### 💾 Save Prepared Dataset"
   ]
  },
  {
   "cell_type": "code",
   "execution_count": 12,
   "id": "9155f4f0-895c-4cb0-a83f-3ae10e3a8155",
   "metadata": {
    "collapsed": true,
    "jupyter": {
     "outputs_hidden": true,
     "source_hidden": true
    }
   },
   "outputs": [
    {
     "name": "stdout",
     "output_type": "stream",
     "text": [
      "Final dataset shape: (512475, 9)\n",
      "Any NaN values? False\n",
      "✅ Saved cleaned and enriched dataset to: datasets/EURUSD_M15_ichimoku.csv\n"
     ]
    }
   ],
   "source": [
    "# Final integrity check\n",
    "print(\"Final dataset shape:\", df.shape)\n",
    "print(\"Any NaN values?\", df.isnull().values.any())\n",
    "\n",
    "# Save if clean\n",
    "if not df.isnull().values.any():\n",
    "    df.to_csv(\"datasets/EURUSD_M15_ichimoku.csv\", index=False)\n",
    "    print(\"✅ Saved cleaned and enriched dataset to: datasets/EURUSD_M15_ichimoku.csv\")\n",
    "else:\n",
    "    print(\"⚠️ Dataset contains NaN values — not saved.\")"
   ]
  },
  {
   "cell_type": "markdown",
   "id": "1aecc886-2d38-470a-abf5-0ea2e3490d57",
   "metadata": {
    "jupyter": {
     "source_hidden": true
    }
   },
   "source": [
    "## 📚 Zen Modules\n",
    "\n",
    "Here we define the core modules used throughout the Zen system.  \n",
    "Each cell includes one self-contained module: Heiken-Ashi, Ichimoku, mood analysis, intent generation, and more."
   ]
  },
  {
   "cell_type": "code",
   "execution_count": 12,
   "id": "acfc3607-6865-44b5-8234-d4143b61a1dc",
   "metadata": {
    "jupyter": {
     "source_hidden": true
    }
   },
   "outputs": [],
   "source": [
    "# Module: zen_ichimoku_weather.py\n",
    "# A humble weather vane\n",
    "\n",
    "import matplotlib\n",
    "matplotlib.use(\"Agg\")\n",
    "\n",
    "#import oandapyV20.endpoints.instruments as instruments\n",
    "import matplotlib.pyplot as plt\n",
    "\n",
    "'''\n",
    "def fetch_candles(client, instrument, granularity=\"M5\", count=100):\n",
    "    \"\"\"\n",
    "    Fetch historical candles from Oanda.\n",
    "    \"\"\"\n",
    "    params = {\n",
    "        \"count\": count,\n",
    "        \"granularity\": granularity,\n",
    "        \"price\": \"M\"  # Mid prices\n",
    "    }\n",
    "    r = instruments.InstrumentsCandles(instrument=instrument, params=params)\n",
    "    client.request(r)\n",
    "    candles = r.response.get('candles', [])\n",
    "    \n",
    "    parsed_candles = []\n",
    "    for candle in candles:\n",
    "        if candle['complete']:\n",
    "            parsed_candles.append({\n",
    "                \"time\": candle[\"time\"],\n",
    "                \"open\": float(candle[\"mid\"][\"o\"]),\n",
    "                \"high\": float(candle[\"mid\"][\"h\"]),\n",
    "                \"low\": float(candle[\"mid\"][\"l\"]),\n",
    "                \"close\": float(candle[\"mid\"][\"c\"])\n",
    "            })\n",
    "    return parsed_candles\n",
    "'''\n",
    "\n",
    "def compute_ichimoku(candles):\n",
    "    \"\"\"\n",
    "    Compute Ichimoku components from candles.\n",
    "    \"\"\"\n",
    "    highs = [c['high'] for c in candles]\n",
    "    lows = [c['low'] for c in candles]\n",
    "    closes = [c['close'] for c in candles]\n",
    "\n",
    "    tenkan_sen = []\n",
    "    kijun_sen = []\n",
    "    senkou_span_a = []\n",
    "    senkou_span_b = []\n",
    "    chikou_span = []\n",
    "\n",
    "    for i in range(len(candles)):\n",
    "        if i >= 9 - 1:\n",
    "            high = max(highs[i-8:i+1])\n",
    "            low = min(lows[i-8:i+1])\n",
    "            tenkan_sen.append((high + low) / 2)\n",
    "        else:\n",
    "            tenkan_sen.append(None)\n",
    "\n",
    "        if i >= 26 - 1:\n",
    "            high = max(highs[i-25:i+1])\n",
    "            low = min(lows[i-25:i+1])\n",
    "            kijun_sen.append((high + low) / 2)\n",
    "        else:\n",
    "            kijun_sen.append(None)\n",
    "\n",
    "        if i >= 26:\n",
    "            chikou_span.append((i-26, closes[i]))\n",
    "        else:\n",
    "            chikou_span.append(None)\n",
    "\n",
    "    for i in range(len(candles)):\n",
    "        if i >= 26 - 1 and tenkan_sen[i] is not None and kijun_sen[i] is not None:\n",
    "            span_a = (tenkan_sen[i] + kijun_sen[i]) / 2\n",
    "            if i + 26 < len(candles):\n",
    "                senkou_span_a.append((i + 26, span_a))\n",
    "\n",
    "        if i >= 52 - 1:\n",
    "            high = max(highs[i-51:i+1])\n",
    "            low = min(lows[i-51:i+1])\n",
    "            span_b = (high + low) / 2\n",
    "            if i + 26 < len(candles):\n",
    "                senkou_span_b.append((i + 26, span_b))\n",
    "\n",
    "    return {\n",
    "        \"tenkan_sen\": tenkan_sen,\n",
    "        \"kijun_sen\": kijun_sen,\n",
    "        \"senkou_span_a\": senkou_span_a,\n",
    "        \"senkou_span_b\": senkou_span_b,\n",
    "        \"chikou_span\": chikou_span\n",
    "    }\n",
    "\n",
    "def plot_ichimoku(candles, ichimoku_lines, title=\"Ichimoku Sketch\"):\n",
    "    \"\"\"\n",
    "    Plot Ichimoku components and price.\n",
    "    \"\"\"\n",
    "    closes = [c['close'] for c in candles]\n",
    "    x = list(range(len(closes)))\n",
    "\n",
    "    plt.figure(figsize=(14,8))\n",
    "    plt.plot(x, closes, label=\"Price\", color=\"black\", linewidth=1)\n",
    "\n",
    "    plt.plot(x, ichimoku_lines['tenkan_sen'], label=\"Tenkan-sen (9)\", color=\"blue\", linestyle='--')\n",
    "    plt.plot(x, ichimoku_lines['kijun_sen'], label=\"Kijun-sen (26)\", color=\"red\", linestyle='-.')\n",
    "\n",
    "    if ichimoku_lines['senkou_span_a']:\n",
    "        x_span_a = [i for (i,v) in ichimoku_lines['senkou_span_a']]\n",
    "        y_span_a = [v for (i,v) in ichimoku_lines['senkou_span_a']]\n",
    "        plt.plot(x_span_a, y_span_a, label=\"Senkou Span A\", color=\"green\")\n",
    "\n",
    "    if ichimoku_lines['senkou_span_b']:\n",
    "        x_span_b = [i for (i,v) in ichimoku_lines['senkou_span_b']]\n",
    "        y_span_b = [v for (i,v) in ichimoku_lines['senkou_span_b']]\n",
    "        plt.plot(x_span_b, y_span_b, label=\"Senkou Span B\", color=\"orange\")\n",
    "\n",
    "    chikou_x = []\n",
    "    chikou_y = []\n",
    "    for v in ichimoku_lines['chikou_span']:\n",
    "        if v is not None:\n",
    "            chikou_x.append(v[0])\n",
    "            chikou_y.append(v[1])\n",
    "    if chikou_x:\n",
    "        plt.plot(chikou_x, chikou_y, label=\"Chikou Span\", color=\"purple\")\n",
    "\n",
    "    plt.title(title)\n",
    "    plt.xlabel(\"Time\")\n",
    "    plt.ylabel(\"Price\")\n",
    "    plt.legend()\n",
    "    plt.grid(True)\n",
    "    plt.gca().invert_xaxis()\n",
    "    plt.show()\n"
   ]
  },
  {
   "cell_type": "code",
   "execution_count": 13,
   "id": "0ce6300c-4b64-4dee-b2e2-1cc8cd837b50",
   "metadata": {
    "jupyter": {
     "source_hidden": true
    }
   },
   "outputs": [],
   "source": [
    "# Module: zen_heiken_assist.py\n",
    "\n",
    "import pandas as pd\n",
    "\n",
    "def compute_heiken_ashi(df):\n",
    "    ha_df = pd.DataFrame(index=df.index)\n",
    "    ha_df['HA_Close'] = (df['open'] + df['high'] + df['low'] + df['close']) / 4\n",
    "    ha_open = [(df['open'].iloc[0] + df['close'].iloc[0]) / 2]  # seed\n",
    "    for i in range(1, len(df)):\n",
    "        ha_open.append((ha_open[i-1] + ha_df['HA_Close'].iloc[i-1]) / 2)\n",
    "    ha_df['HA_Open'] = ha_open\n",
    "    ha_df['HA_High'] = df[['high', 'low']].join(ha_df[['HA_Open', 'HA_Close']]).max(axis=1)\n",
    "    ha_df['HA_Low'] = df[['high', 'low']].join(ha_df[['HA_Open', 'HA_Close']]).min(axis=1)\n",
    "    return ha_df\n",
    "\n",
    "def ha_trend_strength(ha_df, lookback=3):\n",
    "    \"\"\"\n",
    "    Returns +1 for bullish, -1 for bearish, 0 for neutral based on HA color consistency.\n",
    "    \"\"\"\n",
    "    recent = ha_df.tail(lookback)\n",
    "    bullish = (recent['HA_Close'] > recent['HA_Open']).sum()\n",
    "    bearish = (recent['HA_Close'] < recent['HA_Open']).sum()\n",
    "    if bullish == lookback:\n",
    "        return 1\n",
    "    elif bearish == lookback:\n",
    "        return -1\n",
    "    return 0\n"
   ]
  },
  {
   "cell_type": "code",
   "execution_count": 14,
   "id": "6f909ad7-06bb-4591-a48a-bd48f4b4f300",
   "metadata": {
    "jupyter": {
     "source_hidden": true
    }
   },
   "outputs": [],
   "source": [
    "# Module: zen_intent_engine.py\n",
    "\n",
    "from zen_mood_reader import market_mood\n",
    "from zen_seasonal_wisdom import get_market_session\n",
    "\n",
    "def get_intent(candles, cloud_top, cloud_bottom, now_utc=None):\n",
    "    \"\"\"\n",
    "    Determines market intent based on Ichimoku placement, mood, and seasonal session context.\n",
    "\n",
    "    candles: List of recent candle dicts (open, high, low, close)\n",
    "    cloud_top: float - top of the Ichimoku cloud\n",
    "    cloud_bottom: float - bottom of the Ichimoku cloud\n",
    "    now_utc: optional datetime for session detection (default: current UTC time)\n",
    "\n",
    "    Returns a dictionary with enriched intent and session metadata.\n",
    "    \"\"\"\n",
    "\n",
    "    # === Market Session Awareness ===\n",
    "    session_data = get_market_session(now_utc)\n",
    "    session_name = session_data.get(\"session\", \"Unknown\")\n",
    "    session_mood = session_data.get(\"mood\", \"\")\n",
    "    session_notes = session_data.get(\"notes\", \"\")\n",
    "\n",
    "    # === Mood Analysis ===\n",
    "    mood_report = market_mood(candles, cloud_top, cloud_bottom)\n",
    "\n",
    "    mood = mood_report[\"mood\"]\n",
    "    recent_tk_cross = mood_report[\"recent_tk_cross\"]\n",
    "    cloud_breakout = mood_report[\"cloud_breakout\"]\n",
    "    entered_cloud = mood_report[\"entered_cloud\"]\n",
    "    prior_mood = mood_report[\"prior_mood\"]\n",
    "\n",
    "    latest_close = candles[-1][\"close\"]\n",
    "\n",
    "    # === Basic Position-Based Intent ===\n",
    "    if latest_close > cloud_top:\n",
    "        raw_intent = \"bullish_bias\"\n",
    "    elif latest_close < cloud_bottom:\n",
    "        raw_intent = \"bearish_bias\"\n",
    "    else:\n",
    "        raw_intent = \"neutral\"\n",
    "\n",
    "    # === Confidence Logic ===\n",
    "    confidence = 0.5  # base confidence\n",
    "\n",
    "    if mood in [\"soaring\", \"plunging\"]:\n",
    "        confidence += 0.25\n",
    "    elif mood in [\"climbing from valley\", \"slipping from heights\"]:\n",
    "        confidence += 0.1\n",
    "    elif mood == \"foggy\":\n",
    "        confidence = 0.0\n",
    "    elif mood == \"wandering\":\n",
    "        confidence -= 0.05\n",
    "\n",
    "    # Session adjustments\n",
    "    if session_name == \"Weekend\":\n",
    "        confidence = 0.0\n",
    "    elif session_name == \"Holiday\":\n",
    "        confidence *= 0.5\n",
    "    elif session_name == \"Friday Close\":\n",
    "        confidence *= 0.7\n",
    "\n",
    "    # Signal boosts\n",
    "    if recent_tk_cross:\n",
    "        confidence += 0.05\n",
    "    if cloud_breakout:\n",
    "        confidence += 0.05\n",
    "\n",
    "    confidence = min(1.0, max(0.0, confidence))  # clamp to [0, 1]\n",
    "    should_trade = confidence >= 0.6\n",
    "\n",
    "    return {\n",
    "        \"type\": raw_intent,\n",
    "        \"confidence\": confidence,\n",
    "        \"should_trade\": should_trade,\n",
    "        \"mood\": mood,\n",
    "        \"session\": session_name,\n",
    "        \"session_mood\": session_mood,\n",
    "        \"session_notes\": session_notes,\n",
    "        \"mood_context\": {\n",
    "            \"recent_tk_cross\": recent_tk_cross,\n",
    "            \"cloud_breakout\": cloud_breakout,\n",
    "            \"entered_cloud\": entered_cloud,\n",
    "            \"prior_mood\": prior_mood\n",
    "        }\n",
    "    }\n"
   ]
  },
  {
   "cell_type": "code",
   "execution_count": 15,
   "id": "dae43704-931d-471d-81a2-586308afb215",
   "metadata": {
    "jupyter": {
     "source_hidden": true
    }
   },
   "outputs": [],
   "source": [
    "# Module: zen_mood_reader.py\n",
    "\n",
    "def market_mood(candles, cloud_top, cloud_bottom):\n",
    "    \"\"\"\n",
    "    Assess the market mood and recent Ichimoku-related events.\n",
    "\n",
    "    candles: List of dicts with keys: open, high, low, close\n",
    "    cloud_top: float\n",
    "    cloud_bottom: float\n",
    "\n",
    "    Returns a dictionary with mood and recent contextual insights.\n",
    "    \"\"\"\n",
    "    if len(candles) < 3:\n",
    "        return {\n",
    "            \"mood\": \"insufficient_data\",\n",
    "            \"recent_tk_cross\": False,\n",
    "            \"cloud_breakout\": None,\n",
    "            \"entered_cloud\": None,\n",
    "            \"prior_mood\": None\n",
    "        }\n",
    "\n",
    "    recent = candles[-5:]\n",
    "    directions = []\n",
    "    body_sizes = []\n",
    "    upper_wicks = []\n",
    "    lower_wicks = []\n",
    "    mood_sequence = []\n",
    "\n",
    "    for c in recent[-3:]:\n",
    "        body = abs(c['close'] - c['open'])\n",
    "        wick_up = c['high'] - max(c['close'], c['open'])\n",
    "        wick_down = min(c['close'], c['open']) - c['low']\n",
    "\n",
    "        body_sizes.append(body)\n",
    "        upper_wicks.append(wick_up)\n",
    "        lower_wicks.append(wick_down)\n",
    "\n",
    "        if c['close'] > c['open']:\n",
    "            directions.append(\"bull\")\n",
    "        elif c['close'] < c['open']:\n",
    "            directions.append(\"bear\")\n",
    "        else:\n",
    "            directions.append(\"neutral\")\n",
    "\n",
    "    latest_close = recent[-1]['close']\n",
    "    prev_close = recent[-2]['close']\n",
    "    cloud_position = None\n",
    "\n",
    "    if latest_close > cloud_top:\n",
    "        cloud_position = \"above\"\n",
    "    elif latest_close < cloud_bottom:\n",
    "        cloud_position = \"below\"\n",
    "    else:\n",
    "        cloud_position = \"inside\"\n",
    "\n",
    "    avg_body = sum(body_sizes) / len(body_sizes)\n",
    "    avg_wick = (sum(upper_wicks) + sum(lower_wicks)) / (2 * len(body_sizes))\n",
    "    bull_count = directions.count(\"bull\")\n",
    "    bear_count = directions.count(\"bear\")\n",
    "\n",
    "    # Determine mood\n",
    "    mood = \"wandering\"\n",
    "    if cloud_position == \"inside\":\n",
    "        mood = \"foggy\"\n",
    "    elif bull_count >= 2:\n",
    "        if cloud_position == \"above\":\n",
    "            mood = \"soaring\" if avg_body > avg_wick else \"drifting\"\n",
    "        elif cloud_position == \"below\":\n",
    "            mood = \"climbing from valley\"\n",
    "    elif bear_count >= 2:\n",
    "        if cloud_position == \"below\":\n",
    "            mood = \"plunging\" if avg_body > avg_wick else \"sliding\"\n",
    "        elif cloud_position == \"above\":\n",
    "            mood = \"slipping from heights\"\n",
    "\n",
    "    # Track prior mood from earlier 3 candles (optional)\n",
    "    prior_mood = None\n",
    "    if len(candles) >= 6:\n",
    "        prior_mood = market_mood(candles[:-3], cloud_top, cloud_bottom)[\"mood\"]\n",
    "\n",
    "    # Simple TK cross detection (placeholder logic)\n",
    "    # This approximates a Tenkan/Kijun crossover by checking for directional candle flips\n",
    "    recent_tk_cross = False\n",
    "    for i in range(1, len(recent)):\n",
    "        if (\n",
    "            (recent[i-1]['close'] < recent[i-1]['open'] and recent[i]['close'] > recent[i]['open']) or\n",
    "            (recent[i-1]['close'] > recent[i-1]['open'] and recent[i]['close'] < recent[i]['open'])\n",
    "        ):\n",
    "            recent_tk_cross = True\n",
    "            break\n",
    "\n",
    "    # Cloud breakout or re-entry check\n",
    "    # Check if we moved completely out of or into the cloud between the last 2 closes\n",
    "    cloud_breakout = None\n",
    "    entered_cloud = None\n",
    "    if len(recent) >= 2:\n",
    "        prev = recent[-2]['close']\n",
    "        if prev < cloud_bottom and latest_close > cloud_top:\n",
    "            cloud_breakout = \"above\"\n",
    "        elif prev > cloud_top and latest_close < cloud_bottom:\n",
    "            cloud_breakout = \"below\"\n",
    "        if (cloud_bottom <= prev <= cloud_top) and (latest_close < cloud_bottom or latest_close > cloud_top):\n",
    "            entered_cloud = False\n",
    "        elif (prev < cloud_bottom or prev > cloud_top) and (cloud_bottom <= latest_close <= cloud_top):\n",
    "            entered_cloud = True\n",
    "\n",
    "    return {\n",
    "        \"mood\": mood,\n",
    "        \"recent_tk_cross\": recent_tk_cross,\n",
    "        \"cloud_breakout\": cloud_breakout,\n",
    "        \"entered_cloud\": entered_cloud,\n",
    "        \"prior_mood\": prior_mood\n",
    "    }\n"
   ]
  },
  {
   "cell_type": "markdown",
   "id": "b4b8039a-f1be-44a0-956e-4f002c91a0ab",
   "metadata": {
    "jupyter": {
     "source_hidden": true
    }
   },
   "source": [
    "## 🔍 Exploratory Data Visualization *(Coming Soon)*\n",
    "\n",
    "Initial visual analysis of price action, Ichimoku structure, and Heiken Ashi overlay."
   ]
  },
  {
   "cell_type": "code",
   "execution_count": null,
   "id": "4d7be2fd-fc32-4e42-8d6c-e5184e5a4420",
   "metadata": {
    "jupyter": {
     "source_hidden": true
    }
   },
   "outputs": [],
   "source": []
  },
  {
   "cell_type": "markdown",
   "id": "8f65fa9a-549e-47f6-98f6-6e3b7fc4f9dd",
   "metadata": {
    "jupyter": {
     "source_hidden": true
    }
   },
   "source": [
    "## 🧠 Intent + Signal Extraction *(Coming Soon)*\n",
    "\n",
    "Determine trade intent and signal strength based on mood, cloud structure, and confidence logic."
   ]
  },
  {
   "cell_type": "code",
   "execution_count": null,
   "id": "40021e12-618a-40fd-accc-764a39c1d5fe",
   "metadata": {
    "jupyter": {
     "source_hidden": true
    }
   },
   "outputs": [],
   "source": []
  },
  {
   "cell_type": "markdown",
   "id": "a3a9b092-03e6-4146-9592-e5f18b450d2b",
   "metadata": {
    "jupyter": {
     "source_hidden": true
    }
   },
   "source": [
    "## 🧪 Simulation Run\n",
    "\n",
    "This section runs the full trade simulation engine using:\n",
    "- Ichimoku-derived signals\n",
    "- Mood and intent analysis\n",
    "- Heiken Ashi trend confirmation\n",
    "- Entry and exit logic including trailing stops and fallback exits\n",
    "\n",
    "Simulation results are stored for later analysis."
   ]
  },
  {
   "cell_type": "code",
   "execution_count": null,
   "id": "6cbd7800-58ed-4d17-b8a8-59d7f32320ff",
   "metadata": {
    "jupyter": {
     "source_hidden": true
    }
   },
   "outputs": [],
   "source": []
  },
  {
   "cell_type": "markdown",
   "id": "c26a77f2-e84c-4544-acb9-69d0af276b6e",
   "metadata": {
    "jupyter": {
     "source_hidden": true
    }
   },
   "source": [
    "## 🧩 Training Set Slices *(Coming Soon)*\n",
    "\n",
    "We create structured slices of the dataset for machine learning experiments:\n",
    "- Feature extraction: mood, cloud position, trend strength, entry conditions\n",
    "- Labeling: outcome classification (win/loss), PnL ranges, exit reason\n",
    "- Confidence calibration datasets (for ML or regression modeling)\n",
    "\n",
    "These slices will help refine confidence scoring, pattern recognition, and potentially adaptive strategies."
   ]
  },
  {
   "cell_type": "code",
   "execution_count": null,
   "id": "b116306e-4bac-4091-b374-6fed443f05f9",
   "metadata": {
    "jupyter": {
     "source_hidden": true
    }
   },
   "outputs": [],
   "source": []
  },
  {
   "cell_type": "markdown",
   "id": "9f752f9b-9401-4038-8d9f-c854ee51cb65",
   "metadata": {
    "jupyter": {
     "source_hidden": true
    }
   },
   "source": [
    "## 📈 Results + Insights *(Coming Soon)*\n",
    "\n",
    "Post-simulation analysis, including trade summaries, win/loss stats, confidence effectiveness, and insight extraction."
   ]
  },
  {
   "cell_type": "code",
   "execution_count": null,
   "id": "6cc931f6-584b-4551-93bb-a42e3c413f46",
   "metadata": {
    "jupyter": {
     "source_hidden": true
    }
   },
   "outputs": [],
   "source": []
  },
  {
   "cell_type": "markdown",
   "id": "19afdf63-7346-4418-af13-9ebf42e9e667",
   "metadata": {
    "jupyter": {
     "source_hidden": true
    }
   },
   "source": [
    "## 🧘 Reflections *(Optional)*\n",
    "\n",
    "A space for journaling trade philosophies, emotional states, and learning moments along the way."
   ]
  },
  {
   "cell_type": "code",
   "execution_count": null,
   "id": "bc0c298f-46c8-422a-a688-5ef460f89d1f",
   "metadata": {
    "jupyter": {
     "source_hidden": true
    }
   },
   "outputs": [],
   "source": []
  }
 ],
 "metadata": {
  "kernelspec": {
   "display_name": "Python 3 (ipykernel)",
   "language": "python",
   "name": "python3"
  },
  "language_info": {
   "codemirror_mode": {
    "name": "ipython",
    "version": 3
   },
   "file_extension": ".py",
   "mimetype": "text/x-python",
   "name": "python",
   "nbconvert_exporter": "python",
   "pygments_lexer": "ipython3",
   "version": "3.12.3"
  }
 },
 "nbformat": 4,
 "nbformat_minor": 5
}
